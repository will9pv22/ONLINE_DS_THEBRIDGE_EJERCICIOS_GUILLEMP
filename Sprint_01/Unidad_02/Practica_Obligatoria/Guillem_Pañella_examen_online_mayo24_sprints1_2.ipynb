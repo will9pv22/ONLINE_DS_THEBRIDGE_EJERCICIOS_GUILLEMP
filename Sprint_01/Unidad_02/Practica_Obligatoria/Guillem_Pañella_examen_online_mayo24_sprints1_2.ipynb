{
 "cells": [
  {
   "cell_type": "markdown",
   "id": "1f1401c1-4dc9-4902-95bf-160715a42a25",
   "metadata": {},
   "source": [
    "# Prueba de Ramp-up"
   ]
  },
  {
   "cell_type": "markdown",
   "id": "1b34c670-a6dd-482d-9b04-5babee7be17a",
   "metadata": {},
   "source": [
    "Antes de comenzar, cambia el nombre del archivo notebook poniéndole delante tu nombre y primer apellido:\n",
    "\n",
    "* nombre_apellido_examen_online_sprint1_2.ipynb"
   ]
  },
  {
   "cell_type": "code",
   "execution_count": 1,
   "id": "c8d9a657-272c-425a-9ac4-ea59f479673c",
   "metadata": {},
   "outputs": [],
   "source": [
    "# Escribe tu nombre en la variable:\n",
    "nombre_y_apellidos = \"Guillem Pañella Valiente\" "
   ]
  },
  {
   "cell_type": "code",
   "execution_count": 2,
   "id": "2e9f9af5-076c-44ec-9a80-95c0e99cdc58",
   "metadata": {},
   "outputs": [],
   "source": [
    "\"\"\"\n",
    "Criterios de corrección:\n",
    "\n",
    "ejecución (ausencia de errores y obtención de resultados)\n",
    "estructura del código\n",
    "uso correcto de variables\n",
    "manejo de tipo de variables\n",
    "asignaciones\n",
    "operaciones booleanas\n",
    "manejo lógico de flujos de control y bucles\n",
    "uso de colecciones\n",
    "uso de funciones\n",
    "\"\"\";\n",
    "\n",
    "# Ejemplo de como queremos ver el código para más de un intento:\n",
    "\n",
    "# intento 1\n",
    "#your code\n",
    "\n",
    "# intento 2\n",
    "#your code"
   ]
  },
  {
   "cell_type": "code",
   "execution_count": 3,
   "id": "bb16d0e3-3bb9-4f2b-944e-8fc35e628701",
   "metadata": {},
   "outputs": [],
   "source": [
    "# crea todas las celdas que necesites"
   ]
  },
  {
   "cell_type": "markdown",
   "id": "9e02b8f5-6f66-4e73-acfa-7f8c3977de2a",
   "metadata": {},
   "source": [
    "#### Notas y pruebas de apoyo para contestar las preguntas\n",
    "\n",
    "\n",
    "Cualquier código aunque no esté correcto nos dirá más de ti que no escribir nada. "
   ]
  },
  {
   "cell_type": "markdown",
   "id": "57d6b062-27f8-4377-b583-d662777b0bd7",
   "metadata": {},
   "source": [
    "__Debes subir tu examen resuelto a tu repo de GitHub cuando haya acabado este team challenge__"
   ]
  },
  {
   "cell_type": "markdown",
   "id": "062d81e8",
   "metadata": {},
   "source": [
    "#### Ejercicio 1\n",
    "\n",
    "Disponemos de una lista con información sobre varios empleados:\n",
    "\n",
    "    empleados = [[12345, \"Juan Rodríguez\", 53, [\"Director financiero\"], 2],[56789, \"Laura Pérez\", 41, [\"CEO\", \"Director\", \"Gerente\"], 2],[88354, \"Pedro Álvarez\", 26, [\"Asistente\",\"Gestor comercial\"], 3]]\n",
    "\n",
    "Respecto de cada empleado, la lista contiene cinco elementos: en el primero almacenamos su tfno, en el segundo su nombre, en el tercero su edad, en el cuarto los puestos que ha desempeñado en la empresa (en forma de lista) y en el quinto su código postal.\n",
    "\n",
    "1. Siguiendo la misma estructura, incluye un nuevo empleado en la última posición de la lista empleados.\n",
    "\n",
    "2. Mostrar por pantalla, sin uso de funciones (salvo print) ni bucles: \n",
    "\n",
    "    - El nombre y la edad del tercer empleado de la lista empleados.\n",
    "    - Los puestos desempeñados por Pedro Álvarez, ordenados de atras a adelante (es decir, de Gestor comercial a Asistente)\n",
    "    - Si el nuevo empleado que has añadido tiene más o igual a 60 años, muestra por pantalla los puestos que el nuevo empleado haya desempeñado en la empresa. En caso contrario, muestra los puestos desempeñados por Laura Pérez y Juan Rodriguez."
   ]
  },
  {
   "cell_type": "code",
   "execution_count": 31,
   "id": "ae316b4b",
   "metadata": {},
   "outputs": [
    {
     "name": "stdout",
     "output_type": "stream",
     "text": [
      "[[12345, 'Juan Rodríguez', 53, ['Director financiero'], 2], [56789, 'Laura Pérez', 41, ['CEO', 'Director', 'Gerente'], 2], [88354, 'Pedro Álvarez', 26, ['Asistente', 'Gestor comercial'], 3], [345674, 'Guillem Pañella', 61, ['director', 'vendedor', 'reponedor'], 9]]\n",
      "Pedro Álvarez 26\n",
      "Gestor comercial Asistente\n",
      "['director', 'vendedor', 'reponedor']\n"
     ]
    }
   ],
   "source": [
    "empleados = [[12345, \"Juan Rodríguez\", 53, [\"Director financiero\"], 2],[56789, \"Laura Pérez\", 41, [\"CEO\", \"Director\", \"Gerente\"], 2],[88354, \"Pedro Álvarez\", 26, [\"Asistente\",\"Gestor comercial\"], 3]]\n",
    "empleados.append([345674,\"Guillem Pañella\", 28, [\"director\", \"vendedor\", \"reponedor\"], 9])\n",
    "print(empleados)\n",
    "\n",
    "print(empleados[2][1], empleados[2][2]) #apartado 2 primera pregunta\n",
    "print(empleados[-2][-2][-1],empleados[-2][-2][-2]) #apartado 2 segunda pregunta\n",
    "if empleados[3][2] >= 60:   #apartado 3 teniendo en cuenta que el nuevo empleado tiene 28 años. \n",
    "    print(empleados[3][3])\n",
    "else:\n",
    "    print(\"Laura ha sido\", empleados[1][3],\"y Juan ha sido\",empleados[0][3])\n",
    "\n",
    "\n"
   ]
  },
  {
   "cell_type": "markdown",
   "id": "4da89624-0da3-4f91-aa5c-a084c5ee1b17",
   "metadata": {},
   "source": [
    "#### Ejercicio 2. \n",
    "\n",
    "Escribe un programa que te diga si una letra es una consonante o una vocal. Crea tu propia **FUNCIÓN**\n"
   ]
  },
  {
   "cell_type": "code",
   "execution_count": 33,
   "id": "c58bf610-92de-4a5a-a00d-652279ea33dd",
   "metadata": {},
   "outputs": [],
   "source": [
    "abecedario = \"a\", \"b\", \"c\", \"d\", \"e\", \"f\", \"g\", \"h\", \"i\", \"j\", \"k\", \"l\", \"m\", \"n\", \"ñ\", \"o\", \"p\", \"q\", \"r\", \"s\", \"t\", \"u\", \"v\", \"w\", \"x\", \"y\", \"z\"\n",
    "\n",
    "def #he probado primero haciendo un abecedario y recorrerlo pero he preferido con el if en el siguiente codigo se ve"
   ]
  },
  {
   "cell_type": "code",
   "execution_count": 38,
   "id": "1c277172",
   "metadata": {},
   "outputs": [
    {
     "name": "stdout",
     "output_type": "stream",
     "text": [
      "la letra que has introducido es una consonante\n"
     ]
    }
   ],
   "source": [
    "\n",
    "def vocal (x):\n",
    "    if x == \"a\" or x == \"e\" or x == \"i\" or x == \"o\" or x== \"u\":\n",
    "        return True\n",
    "\n",
    "    elif x == \"A\" or x == \"E\" or x == \"I\" or x == \"O\" or x == \"U\":\n",
    "        return True\n",
    "\n",
    "    return False\n",
    "\n",
    "letra_dicha = input(\"introduce una letra, por favor: \")\n",
    "if vocal(letra_dicha) == False:\n",
    "    print(\"la letra que has introducido es una consonante\")\n",
    "else:\n",
    "    print(\"La letra que has introducido es una vocal\")"
   ]
  },
  {
   "cell_type": "markdown",
   "id": "52065a6c-3d4c-44c0-a10b-958506c481b3",
   "metadata": {},
   "source": [
    "#### Ejercicio 3. \n",
    "\n",
    "Escribe un programa que calcule la edad humana de un perro.\n",
    "Tienes que pedirle al usuario la edad del perro en años.\n",
    "Si el usuario introduce un número negativo, imprime que la cifra facilitada no tiene sentido. Si el perro tiene un año, son 14 años humanos. Si tiene 2 años, son 22 años humanos.\n",
    "A partir de los 2 años, el cálculo es el siguiente: a la edad del perro se le restan 2 años, el resultado se multiplica por 5 y, finalmente, se le suma 22.\n",
    "Usa una función sin argumentos de entrada ni de salida (muestra toda la información con print())"
   ]
  },
  {
   "cell_type": "code",
   "execution_count": 59,
   "id": "9c59c801-1fe1-4a6d-a000-f85ca738ed00",
   "metadata": {},
   "outputs": [
    {
     "name": "stdout",
     "output_type": "stream",
     "text": [
      "bienvenido al calculador de edad de perros, esta usted en su casa!\n",
      "La edad del perro equivale a 37 años humanos\n"
     ]
    }
   ],
   "source": [
    "print(\"bienvenido al calculador de edad de perros, esta usted en su casa!\")\n",
    "\n",
    "edad_perro = int(input(\"podria introducir la edad del perro aquí, por favor: \"))\n",
    "edad_humana = 0\n",
    "#me daba error hasta que he cambiado el input a int para que todo estuviera en enteros. \n",
    "if edad_perro < 0:\n",
    "    print(\"la cifra facilitada no tiene sentido\")\n",
    "elif edad_perro == 1:\n",
    "    edad_humana +=14\n",
    "    print(\"La edad del perro equivale a\",edad_humana, \"años humanos\")\n",
    "elif edad_perro == 2:\n",
    "    edad_humana +=22\n",
    "    print(\"La edad del perro equivale a\", edad_humana,\"años humanos\")\n",
    "elif edad_perro > 2:\n",
    "        edad_humana = ((edad_perro - 2) * 5) +22\n",
    "        print(\"La edad del perro equivale a\",edad_humana,\"años humanos\")\n"
   ]
  },
  {
   "cell_type": "markdown",
   "id": "2991309f-4208-431a-900c-d9bc734bb936",
   "metadata": {},
   "source": [
    "#### Ejercicio 4. \n",
    "\n",
    "Escribe un programa que te diga si una frase es un pangrama. Un pangrama es una frase que contiene todas las letras del alfabeto.\n",
    "Puedes tener espacios en blanco, pero NO  tendrás signos de puntuación, a excepción de las tildes.\n",
    "\n",
    "Ejemplo de pangrama:\n",
    "\n",
    "Extraño pan de col y kiwi se quemó bajo fugaz vaho "
   ]
  },
  {
   "cell_type": "code",
   "execution_count": 69,
   "id": "9a349c1e-15ab-4253-97f8-2a07a263791d",
   "metadata": {},
   "outputs": [
    {
     "ename": "TypeError",
     "evalue": "count() takes at most 3 arguments (27 given)",
     "output_type": "error",
     "traceback": [
      "\u001b[1;31m---------------------------------------------------------------------------\u001b[0m",
      "\u001b[1;31mTypeError\u001b[0m                                 Traceback (most recent call last)",
      "Cell \u001b[1;32mIn[69], line 3\u001b[0m\n\u001b[0;32m      1\u001b[0m \u001b[38;5;66;03m#lo construyo con una frase dada por el usuario y asi hago el juego un poco\u001b[39;00m\n\u001b[0;32m      2\u001b[0m frase \u001b[38;5;241m=\u001b[39m \u001b[38;5;28minput\u001b[39m(\u001b[38;5;124m\"\u001b[39m\u001b[38;5;124mpodria hacerme un pangrama: \u001b[39m\u001b[38;5;124m\"\u001b[39m)\n\u001b[1;32m----> 3\u001b[0m \u001b[43mfrase\u001b[49m\u001b[38;5;241;43m.\u001b[39;49m\u001b[43mcount\u001b[49m\u001b[43m(\u001b[49m\u001b[38;5;124;43m\"\u001b[39;49m\u001b[38;5;124;43ma\u001b[39;49m\u001b[38;5;124;43m\"\u001b[39;49m\u001b[43m,\u001b[49m\u001b[43m \u001b[49m\u001b[38;5;124;43m\"\u001b[39;49m\u001b[38;5;124;43mb\u001b[39;49m\u001b[38;5;124;43m\"\u001b[39;49m\u001b[43m,\u001b[49m\u001b[43m \u001b[49m\u001b[38;5;124;43m\"\u001b[39;49m\u001b[38;5;124;43mc\u001b[39;49m\u001b[38;5;124;43m\"\u001b[39;49m\u001b[43m,\u001b[49m\u001b[43m \u001b[49m\u001b[38;5;124;43m\"\u001b[39;49m\u001b[38;5;124;43md\u001b[39;49m\u001b[38;5;124;43m\"\u001b[39;49m\u001b[43m,\u001b[49m\u001b[43m \u001b[49m\u001b[38;5;124;43m\"\u001b[39;49m\u001b[38;5;124;43me\u001b[39;49m\u001b[38;5;124;43m\"\u001b[39;49m\u001b[43m,\u001b[49m\u001b[43m \u001b[49m\u001b[38;5;124;43m\"\u001b[39;49m\u001b[38;5;124;43mf\u001b[39;49m\u001b[38;5;124;43m\"\u001b[39;49m\u001b[43m,\u001b[49m\u001b[43m \u001b[49m\u001b[38;5;124;43m\"\u001b[39;49m\u001b[38;5;124;43mg\u001b[39;49m\u001b[38;5;124;43m\"\u001b[39;49m\u001b[43m,\u001b[49m\u001b[43m \u001b[49m\u001b[38;5;124;43m\"\u001b[39;49m\u001b[38;5;124;43mh\u001b[39;49m\u001b[38;5;124;43m\"\u001b[39;49m\u001b[43m,\u001b[49m\u001b[43m \u001b[49m\u001b[38;5;124;43m\"\u001b[39;49m\u001b[38;5;124;43mi\u001b[39;49m\u001b[38;5;124;43m\"\u001b[39;49m\u001b[43m,\u001b[49m\u001b[43m \u001b[49m\u001b[38;5;124;43m\"\u001b[39;49m\u001b[38;5;124;43mj\u001b[39;49m\u001b[38;5;124;43m\"\u001b[39;49m\u001b[43m,\u001b[49m\u001b[43m \u001b[49m\u001b[38;5;124;43m\"\u001b[39;49m\u001b[38;5;124;43mk\u001b[39;49m\u001b[38;5;124;43m\"\u001b[39;49m\u001b[43m,\u001b[49m\u001b[43m \u001b[49m\u001b[38;5;124;43m\"\u001b[39;49m\u001b[38;5;124;43ml\u001b[39;49m\u001b[38;5;124;43m\"\u001b[39;49m\u001b[43m,\u001b[49m\u001b[43m \u001b[49m\u001b[38;5;124;43m\"\u001b[39;49m\u001b[38;5;124;43mm\u001b[39;49m\u001b[38;5;124;43m\"\u001b[39;49m\u001b[43m,\u001b[49m\u001b[43m \u001b[49m\u001b[38;5;124;43m\"\u001b[39;49m\u001b[38;5;124;43mn\u001b[39;49m\u001b[38;5;124;43m\"\u001b[39;49m\u001b[43m,\u001b[49m\u001b[43m \u001b[49m\u001b[38;5;124;43m\"\u001b[39;49m\u001b[38;5;124;43mñ\u001b[39;49m\u001b[38;5;124;43m\"\u001b[39;49m\u001b[43m,\u001b[49m\u001b[43m \u001b[49m\u001b[38;5;124;43m\"\u001b[39;49m\u001b[38;5;124;43mo\u001b[39;49m\u001b[38;5;124;43m\"\u001b[39;49m\u001b[43m,\u001b[49m\u001b[43m \u001b[49m\u001b[38;5;124;43m\"\u001b[39;49m\u001b[38;5;124;43mp\u001b[39;49m\u001b[38;5;124;43m\"\u001b[39;49m\u001b[43m,\u001b[49m\u001b[43m \u001b[49m\u001b[38;5;124;43m\"\u001b[39;49m\u001b[38;5;124;43mq\u001b[39;49m\u001b[38;5;124;43m\"\u001b[39;49m\u001b[43m,\u001b[49m\u001b[43m \u001b[49m\u001b[38;5;124;43m\"\u001b[39;49m\u001b[38;5;124;43mr\u001b[39;49m\u001b[38;5;124;43m\"\u001b[39;49m\u001b[43m,\u001b[49m\u001b[43m \u001b[49m\u001b[38;5;124;43m\"\u001b[39;49m\u001b[38;5;124;43ms\u001b[39;49m\u001b[38;5;124;43m\"\u001b[39;49m\u001b[43m,\u001b[49m\u001b[43m \u001b[49m\u001b[38;5;124;43m\"\u001b[39;49m\u001b[38;5;124;43mt\u001b[39;49m\u001b[38;5;124;43m\"\u001b[39;49m\u001b[43m,\u001b[49m\u001b[43m \u001b[49m\u001b[38;5;124;43m\"\u001b[39;49m\u001b[38;5;124;43mu\u001b[39;49m\u001b[38;5;124;43m\"\u001b[39;49m\u001b[43m,\u001b[49m\u001b[43m \u001b[49m\u001b[38;5;124;43m\"\u001b[39;49m\u001b[38;5;124;43mv\u001b[39;49m\u001b[38;5;124;43m\"\u001b[39;49m\u001b[43m,\u001b[49m\u001b[43m \u001b[49m\u001b[38;5;124;43m\"\u001b[39;49m\u001b[38;5;124;43mw\u001b[39;49m\u001b[38;5;124;43m\"\u001b[39;49m\u001b[43m,\u001b[49m\u001b[43m \u001b[49m\u001b[38;5;124;43m\"\u001b[39;49m\u001b[38;5;124;43mx\u001b[39;49m\u001b[38;5;124;43m\"\u001b[39;49m\u001b[43m,\u001b[49m\u001b[43m \u001b[49m\u001b[38;5;124;43m\"\u001b[39;49m\u001b[38;5;124;43my\u001b[39;49m\u001b[38;5;124;43m\"\u001b[39;49m\u001b[43m,\u001b[49m\u001b[43m \u001b[49m\u001b[38;5;124;43m\"\u001b[39;49m\u001b[38;5;124;43mz\u001b[39;49m\u001b[38;5;124;43m\"\u001b[39;49m\u001b[43m)\u001b[49m\n\u001b[0;32m      4\u001b[0m abecedario \u001b[38;5;241m=\u001b[39m \u001b[38;5;124m\"\u001b[39m\u001b[38;5;124ma\u001b[39m\u001b[38;5;124m\"\u001b[39m, \u001b[38;5;124m\"\u001b[39m\u001b[38;5;124mb\u001b[39m\u001b[38;5;124m\"\u001b[39m, \u001b[38;5;124m\"\u001b[39m\u001b[38;5;124mc\u001b[39m\u001b[38;5;124m\"\u001b[39m, \u001b[38;5;124m\"\u001b[39m\u001b[38;5;124md\u001b[39m\u001b[38;5;124m\"\u001b[39m, \u001b[38;5;124m\"\u001b[39m\u001b[38;5;124me\u001b[39m\u001b[38;5;124m\"\u001b[39m, \u001b[38;5;124m\"\u001b[39m\u001b[38;5;124mf\u001b[39m\u001b[38;5;124m\"\u001b[39m, \u001b[38;5;124m\"\u001b[39m\u001b[38;5;124mg\u001b[39m\u001b[38;5;124m\"\u001b[39m, \u001b[38;5;124m\"\u001b[39m\u001b[38;5;124mh\u001b[39m\u001b[38;5;124m\"\u001b[39m, \u001b[38;5;124m\"\u001b[39m\u001b[38;5;124mi\u001b[39m\u001b[38;5;124m\"\u001b[39m, \u001b[38;5;124m\"\u001b[39m\u001b[38;5;124mj\u001b[39m\u001b[38;5;124m\"\u001b[39m, \u001b[38;5;124m\"\u001b[39m\u001b[38;5;124mk\u001b[39m\u001b[38;5;124m\"\u001b[39m, \u001b[38;5;124m\"\u001b[39m\u001b[38;5;124ml\u001b[39m\u001b[38;5;124m\"\u001b[39m, \u001b[38;5;124m\"\u001b[39m\u001b[38;5;124mm\u001b[39m\u001b[38;5;124m\"\u001b[39m, \u001b[38;5;124m\"\u001b[39m\u001b[38;5;124mn\u001b[39m\u001b[38;5;124m\"\u001b[39m, \u001b[38;5;124m\"\u001b[39m\u001b[38;5;124mñ\u001b[39m\u001b[38;5;124m\"\u001b[39m, \u001b[38;5;124m\"\u001b[39m\u001b[38;5;124mo\u001b[39m\u001b[38;5;124m\"\u001b[39m, \u001b[38;5;124m\"\u001b[39m\u001b[38;5;124mp\u001b[39m\u001b[38;5;124m\"\u001b[39m, \u001b[38;5;124m\"\u001b[39m\u001b[38;5;124mq\u001b[39m\u001b[38;5;124m\"\u001b[39m, \u001b[38;5;124m\"\u001b[39m\u001b[38;5;124mr\u001b[39m\u001b[38;5;124m\"\u001b[39m, \u001b[38;5;124m\"\u001b[39m\u001b[38;5;124ms\u001b[39m\u001b[38;5;124m\"\u001b[39m, \u001b[38;5;124m\"\u001b[39m\u001b[38;5;124mt\u001b[39m\u001b[38;5;124m\"\u001b[39m, \u001b[38;5;124m\"\u001b[39m\u001b[38;5;124mu\u001b[39m\u001b[38;5;124m\"\u001b[39m, \u001b[38;5;124m\"\u001b[39m\u001b[38;5;124mv\u001b[39m\u001b[38;5;124m\"\u001b[39m, \u001b[38;5;124m\"\u001b[39m\u001b[38;5;124mw\u001b[39m\u001b[38;5;124m\"\u001b[39m, \u001b[38;5;124m\"\u001b[39m\u001b[38;5;124mx\u001b[39m\u001b[38;5;124m\"\u001b[39m, \u001b[38;5;124m\"\u001b[39m\u001b[38;5;124my\u001b[39m\u001b[38;5;124m\"\u001b[39m, \u001b[38;5;124m\"\u001b[39m\u001b[38;5;124mz\u001b[39m\u001b[38;5;124m\"\u001b[39m\n",
      "\u001b[1;31mTypeError\u001b[0m: count() takes at most 3 arguments (27 given)"
     ]
    }
   ],
   "source": [
    "\n",
    "#lo construyo con una frase dada por el usuario y asi hago el juego un poco\n",
    "frase = input(\"podria hacerme un pangrama: \")\n",
    "frase.count(\"a\", \"b\", \"c\", \"d\", \"e\", \"f\", \"g\", \"h\", \"i\", \"j\", \"k\", \"l\", \"m\", \"n\", \"ñ\", \"o\", \"p\", \"q\", \"r\", \"s\", \"t\", \"u\", \"v\", \"w\", \"x\", \"y\", \"z\")\n",
    "abecedario = [\"a\", \"b\", \"c\", \"d\", \"e\", \"f\", \"g\", \"h\", \"i\", \"j\", \"k\", \"l\", \"m\", \"n\", \"ñ\", \"o\", \"p\", \"q\", \"r\", \"s\", \"t\", \"u\", \"v\", \"w\", \"x\", \"y\", \"z\"]\n",
    "abecedario_frase =[]\n",
    "for letras in range(len.frase):\n",
    "    \n"
   ]
  },
  {
   "cell_type": "markdown",
   "id": "3dbb76e0-79b2-45e8-9034-58ee9cbd82bb",
   "metadata": {},
   "source": [
    "#### Ejercicio 5. \n",
    "\n",
    "Escribe un programa que use diccionarios para traducir palabras entre varios idiomas.\n",
    "Deberás pedirle al usuario una palabra por teclado, ver si está en tu diccionario. En caso de que esté, deberás mostrar la traducción de esa palabra.\n",
    "\n",
    "Ejemplo de diccionario:\n",
    "\n",
    "```python\n",
    "{\"file\": \"Fichier\", \"new\": \"Nouveau\", \"open\": \"Ouvrir\", \"save\": \"Enregistrer\", \"save as\": \"Enregistrer sous\", \"print preview\": \"Apercu avant impressioner\", \"print\": \"Imprimer\", \"close\": \"Fermer\", \"exit\": \"Quitter\"}"
   ]
  },
  {
   "cell_type": "code",
   "execution_count": 68,
   "id": "88236123-e8ac-45da-87d0-134a88a690c1",
   "metadata": {},
   "outputs": [
    {
     "name": "stdout",
     "output_type": "stream",
     "text": [
      "bienvenido al guillem translator, puedo traducir algunas palabras\n",
      "esta palabra no la tengo en mi diccionario\n",
      "esta palabra no la tengo en mi diccionario\n",
      "esta palabra no la tengo en mi diccionario\n",
      "esta palabra no la tengo en mi diccionario\n",
      "esta palabra no la tengo en mi diccionario\n",
      "esta palabra no la tengo en mi diccionario\n",
      "esta palabra no la tengo en mi diccionario\n",
      "esta palabra no la tengo en mi diccionario\n",
      "esta palabra no la tengo en mi diccionario\n"
     ]
    }
   ],
   "source": [
    "print(\"bienvenido al guillem translator, puedo traducir algunas palabras\")\n",
    "palabra_dicha = input(\"podria decirme una palabra: \")\n",
    "diccionario = {\"file\": \"Fichier\", \"new\": \"Nouveau\", \"open\": \"Ouvrir\", \"save\": \"Enregistrer\", \"save as\": \"Enregistrer sous\", \"print preview\": \"Apercu avant impressioner\", \"print\": \"Imprimer\", \"close\": \"Fermer\", \"exit\": \"Quitter\"}\n",
    "\n",
    "for ingles,frances in diccionario.items():\n",
    "    if palabra_dicha == ingles:\n",
    "        print(\"la traducción al frances es\",frances)\n",
    "    else \n",
    "        print(\"esta palabra no la tengo en mi diccionario\") \n",
    "#Cuando no esta en el diccionario dice todas las veces que no porque recorre todas las palabras del diccionario\n",
    "   "
   ]
  },
  {
   "cell_type": "markdown",
   "id": "61967ca4-7e06-44b3-ad7b-adbc0e71671a",
   "metadata": {},
   "source": [
    "#### Ejercicio 6.\n",
    "\n",
    "Usando objetos modela un theremin (es un instrumento musical que se toca modificando el campo electromagnético, por si tenías curiosidad).\n",
    "Tendrá de atributos la marca, el modelo, el peso, la potencia y la batería.\n",
    "\n",
    "Todos los instrumentos se crean con un peso predeterminado de 500, una potencia de 50 y una batería de 200.\n",
    "\n",
    "Cuando se recarga la batería vale 200.\n",
    "\n",
    "Cuando se toca, se muestra por pantalla que está sonando y la batería disminuye 10 (no siendo nunca negativo).\n",
    "Si no hay batería, no puede sonar. Crea un instrumento, tócalo mientras quede batería, cárgalo y no lo vuelvas a tocar.\n"
   ]
  },
  {
   "cell_type": "code",
   "execution_count": 72,
   "id": "8082c8cd-03a9-478e-aa72-4ec1306e1bb2",
   "metadata": {},
   "outputs": [],
   "source": [
    "class theremin:\n",
    "    bateria = 200\n",
    "    peso = 500 \n",
    "    potencia = 50\n",
    "    \n",
    "    def __init__(self, marca, modelo, peso, potencia, bateria):\n",
    "        self.marca = marca\n",
    "        self.modelo = modelo \n",
    "        self.peso = peso\n",
    "        self.potencia = potencia\n",
    "        self.bateria = bateria\n",
    "\n",
    "        while self.bateria >= 0:\n",
    "            print(\"el theremin está funcionando\")\n",
    "            \n",
    "\n",
    "\n"
   ]
  },
  {
   "cell_type": "markdown",
   "id": "30f773b5-a6da-4446-b36b-722b2ee57730",
   "metadata": {},
   "source": [
    "#### Ejercicio 7 EXTRA, NO PUNTÚA\n",
    "Una empresa usa dos listas  para guardar la información de sus empleados. Una lista guarda el nombre del empleado y la otra guarda su salario. Escribe un programa que cree esas dos listas originalmente vacías y que a través de un menú pueda hacer lo siguiente:\n",
    "    \n",
    "Inserta 1 para añadir un nuevo empleado y su salario\n",
    "\n",
    "Inserta 2 para imprimir los nombres y salarios de todos los empleados\n",
    "\n",
    "Inserta 3 para mostrar el número de empleados\n",
    "\n",
    "Inserta 4 para imprimir los nombres de los empleados con sueldos superiores a 400000\n",
    "\n",
    "Inserta 5 para subir un 5% los sueldos por debajo de 10000\n",
    "\n",
    "Inserta 6 para mostrar el total de todos los salarios\n",
    "\n",
    "Inserta 7 para salir del programa"
   ]
  },
  {
   "cell_type": "code",
   "execution_count": 11,
   "id": "67858e27-b7f5-4e05-bc50-3fca698ad22a",
   "metadata": {},
   "outputs": [
    {
     "name": "stdout",
     "output_type": "stream",
     "text": [
      "\n",
      "\n",
      "¡Bienvenido!\n",
      "\n",
      "Inserta 1 para añadir un nuevo empleado y su salario\n",
      "Inserta 2 para imprimir los nombres y salarios de todos los empleados\n",
      "Inserta 3 para mostrar el número de empleados\n",
      "Inserta 4 para imprimir los nombres de los empleados con sueldos superiores a 400000\n",
      "Inserta 5 para subir un 5% los sueldos por debajo de 10000\n",
      "Inserta 6 para mostrar el total de todos los salarios\n",
      "Inserta 7 para salir del programa\n",
      "\n",
      "    \n",
      "\n",
      "Suma de todos los sueldos:  10000\n",
      "\n",
      "Cantidad de empleados:  1\n",
      "\n",
      "¡Gracias por usar el programa!\n"
     ]
    }
   ],
   "source": []
  },
  {
   "cell_type": "markdown",
   "id": "e33a0e21-476e-4103-b889-a6b3e76b99f3",
   "metadata": {},
   "source": [
    "\n",
    "####  Ejercicio 8, EXTRA, NO PUNTÚA.\n",
    "\n",
    "Escribe un programa que __USE RECURSIVIDAD__ para decidir cuál es la película de Pixar favorita de un usuario.\n",
    "El programa preguntará al usuario cuál de 2 películas es su favorita, y con esa favorita se le volverá a preguntar entre esa y otra película cuál es su favorita...y así hasta que el usuario haya decidido de entre todas cuál es su favorita.\n",
    "\n",
    "Pista: si no quieres cambiar una lista, usa copy() y tendrás una copia que es otro objeto\n",
    "\n"
   ]
  },
  {
   "cell_type": "code",
   "execution_count": 12,
   "id": "c9936fd4-6d29-4535-9f34-a6f289d18d8b",
   "metadata": {},
   "outputs": [
    {
     "name": "stdout",
     "output_type": "stream",
     "text": [
      "Si prefieres Toy Story marca 1, si prefieres Soul marca 2: 1\n",
      "Prefieres Toy Story\n",
      "Si prefieres Toy Story marca 1, si prefieres Up marca 2: 2\n",
      "Prefieres Up\n",
      "Si prefieres Up marca 1, si prefieres Coco marca 2: 2\n",
      "Prefieres Coco\n",
      "Si prefieres Coco marca 1, si prefieres Luca marca 2: 1\n",
      "Prefieres Coco\n",
      "Si prefieres Coco marca 1, si prefieres Monsters marca 2: 2\n",
      "Prefieres Monsters\n",
      "Si prefieres Monsters marca 1, si prefieres Inside Out marca 2: 1\n",
      "Prefieres Monsters\n",
      "Si prefieres Monsters marca 1, si prefieres WallE marca 2: 2\n",
      "Prefieres WallE\n",
      "Si prefieres WallE marca 1, si prefieres Buscando a Nemo marca 2: 2\n",
      "Prefieres Buscando a Nemo\n",
      "Si prefieres Buscando a Nemo marca 1, si prefieres Los increíbles marca 2: 1\n",
      "Prefieres Buscando a Nemo\n",
      "\n",
      "Prefieres finalmente Buscando a Nemo\n"
     ]
    }
   ],
   "source": [
    "\n",
    "\n",
    "            "
   ]
  },
  {
   "cell_type": "code",
   "execution_count": null,
   "id": "e0264a74-638f-4a82-95a0-cddee11253b7",
   "metadata": {},
   "outputs": [],
   "source": []
  },
  {
   "cell_type": "code",
   "execution_count": 1,
   "id": "10a7b881",
   "metadata": {},
   "outputs": [],
   "source": [
    "# FIN DEL EXAMEN\n",
    "\n"
   ]
  }
 ],
 "metadata": {
  "kernelspec": {
   "display_name": "Python 3 (ipykernel)",
   "language": "python",
   "name": "python3"
  },
  "language_info": {
   "codemirror_mode": {
    "name": "ipython",
    "version": 3
   },
   "file_extension": ".py",
   "mimetype": "text/x-python",
   "name": "python",
   "nbconvert_exporter": "python",
   "pygments_lexer": "ipython3",
   "version": "3.12.3"
  },
  "vscode": {
   "interpreter": {
    "hash": "252189e587d1e2aeba4a06e91fa71896c7a7f6e22e918b9407c7cde4ef2d5985"
   }
  }
 },
 "nbformat": 4,
 "nbformat_minor": 5
}
